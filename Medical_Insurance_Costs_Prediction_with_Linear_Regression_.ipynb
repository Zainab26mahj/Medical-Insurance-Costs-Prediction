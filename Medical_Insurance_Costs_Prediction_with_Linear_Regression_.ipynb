{
  "nbformat": 4,
  "nbformat_minor": 0,
  "metadata": {
    "colab": {
      "provenance": [],
      "mount_file_id": "1CKty9bJL_pCQ07-M6-IwbM1ZMhK_tab9",
      "authorship_tag": "ABX9TyNnHx8ZRTLy2A3KIP2Ln6gF",
      "include_colab_link": true
    },
    "kernelspec": {
      "name": "python3",
      "display_name": "Python 3"
    },
    "language_info": {
      "name": "python"
    }
  },
  "cells": [
    {
      "cell_type": "markdown",
      "metadata": {
        "id": "view-in-github",
        "colab_type": "text"
      },
      "source": [
        "<a href=\"https://colab.research.google.com/github/Zainab26mahj/Medical-Insurance-Costs-Prediction/blob/main/Medical_Insurance_Costs_Prediction_with_Linear_Regression_.ipynb\" target=\"_parent\"><img src=\"https://colab.research.google.com/assets/colab-badge.svg\" alt=\"Open In Colab\"/></a>"
      ]
    },
    {
      "cell_type": "code",
      "execution_count": 18,
      "metadata": {
        "id": "semCc5OzLsK9"
      },
      "outputs": [],
      "source": [
        "import pandas as pd\n",
        "import numpy as np\n",
        "import matplotlib.pyplot as plt\n",
        "import seaborn as sns\n",
        "from sklearn import preprocessing\n",
        "import statsmodels.api as sm\n",
        "from sklearn.model_selection import train_test_split\n",
        "from sklearn.preprocessing import PolynomialFeatures\n",
        "from sklearn.linear_model import LinearRegression\n",
        "from sklearn.metrics import mean_squared_error, r2_score"
      ]
    },
    {
      "cell_type": "code",
      "source": [
        "data = pd.read_csv('/content/drive/MyDrive/Colab Notebooks/insurance.csv')"
      ],
      "metadata": {
        "id": "B-BqLajOLtbw"
      },
      "execution_count": 2,
      "outputs": []
    },
    {
      "cell_type": "code",
      "source": [
        "print(data.head())"
      ],
      "metadata": {
        "colab": {
          "base_uri": "https://localhost:8080/"
        },
        "id": "uW26UyEmLteG",
        "outputId": "4a049090-4b62-49ef-ab5e-65e2d62e4515"
      },
      "execution_count": 3,
      "outputs": [
        {
          "output_type": "stream",
          "name": "stdout",
          "text": [
            "   age     sex     bmi  children smoker     region      charges\n",
            "0   19  female  27.900         0    yes  southwest  16884.92400\n",
            "1   18    male  33.770         1     no  southeast   1725.55230\n",
            "2   28    male  33.000         3     no  southeast   4449.46200\n",
            "3   33    male  22.705         0     no  northwest  21984.47061\n",
            "4   32    male  28.880         0     no  northwest   3866.85520\n"
          ]
        }
      ]
    },
    {
      "cell_type": "code",
      "source": [
        "print(data.info)"
      ],
      "metadata": {
        "colab": {
          "base_uri": "https://localhost:8080/"
        },
        "id": "6E3gQ9GXLtgq",
        "outputId": "44822234-bafd-41c5-9a2d-1318b1117b32"
      },
      "execution_count": 4,
      "outputs": [
        {
          "output_type": "stream",
          "name": "stdout",
          "text": [
            "<bound method DataFrame.info of       age     sex     bmi  children smoker     region      charges\n",
            "0      19  female  27.900         0    yes  southwest  16884.92400\n",
            "1      18    male  33.770         1     no  southeast   1725.55230\n",
            "2      28    male  33.000         3     no  southeast   4449.46200\n",
            "3      33    male  22.705         0     no  northwest  21984.47061\n",
            "4      32    male  28.880         0     no  northwest   3866.85520\n",
            "...   ...     ...     ...       ...    ...        ...          ...\n",
            "1333   50    male  30.970         3     no  northwest  10600.54830\n",
            "1334   18  female  31.920         0     no  northeast   2205.98080\n",
            "1335   18  female  36.850         0     no  southeast   1629.83350\n",
            "1336   21  female  25.800         0     no  southwest   2007.94500\n",
            "1337   61  female  29.070         0    yes  northwest  29141.36030\n",
            "\n",
            "[1338 rows x 7 columns]>\n"
          ]
        }
      ]
    },
    {
      "cell_type": "code",
      "source": [
        "print(data.columns)"
      ],
      "metadata": {
        "colab": {
          "base_uri": "https://localhost:8080/"
        },
        "id": "ggDDHdL2Lti6",
        "outputId": "bbb8856d-632b-43d7-e368-f20bb982648c"
      },
      "execution_count": 5,
      "outputs": [
        {
          "output_type": "stream",
          "name": "stdout",
          "text": [
            "Index(['age', 'sex', 'bmi', 'children', 'smoker', 'region', 'charges'], dtype='object')\n"
          ]
        }
      ]
    },
    {
      "cell_type": "code",
      "source": [
        "print(data.dtypes)"
      ],
      "metadata": {
        "colab": {
          "base_uri": "https://localhost:8080/"
        },
        "id": "Bx2lQ4IULtmb",
        "outputId": "afd3f25d-20ca-4196-925e-25de6f2c49b9"
      },
      "execution_count": 6,
      "outputs": [
        {
          "output_type": "stream",
          "name": "stdout",
          "text": [
            "age           int64\n",
            "sex          object\n",
            "bmi         float64\n",
            "children      int64\n",
            "smoker       object\n",
            "region       object\n",
            "charges     float64\n",
            "dtype: object\n"
          ]
        }
      ]
    },
    {
      "cell_type": "markdown",
      "source": [
        "After a broad look at the data, the data may be classified as simple. There is a total of 1338 rows and 7 columns. The types of columns are corresponding well to the nature of the dataset.\n"
      ],
      "metadata": {
        "id": "o9DNR-6tOckO"
      }
    },
    {
      "cell_type": "code",
      "source": [
        "data['sex'] = data['sex'].replace({'male': 0, 'female': 1})\n",
        "data['smoker'] = data['smoker'].replace({'no': 0, 'yes': 1})"
      ],
      "metadata": {
        "colab": {
          "base_uri": "https://localhost:8080/"
        },
        "id": "Kk568rXOQbgU",
        "outputId": "89bf99ae-9008-4bd1-8576-5ad88358cd6d"
      },
      "execution_count": 7,
      "outputs": [
        {
          "output_type": "stream",
          "name": "stderr",
          "text": [
            "<ipython-input-7-55cc6b878dd8>:1: FutureWarning: Downcasting behavior in `replace` is deprecated and will be removed in a future version. To retain the old behavior, explicitly call `result.infer_objects(copy=False)`. To opt-in to the future behavior, set `pd.set_option('future.no_silent_downcasting', True)`\n",
            "  data['sex'] = data['sex'].replace({'male': 0, 'female': 1})\n",
            "<ipython-input-7-55cc6b878dd8>:2: FutureWarning: Downcasting behavior in `replace` is deprecated and will be removed in a future version. To retain the old behavior, explicitly call `result.infer_objects(copy=False)`. To opt-in to the future behavior, set `pd.set_option('future.no_silent_downcasting', True)`\n",
            "  data['smoker'] = data['smoker'].replace({'no': 0, 'yes': 1})\n"
          ]
        }
      ]
    },
    {
      "cell_type": "code",
      "source": [
        "label_encoder = preprocessing.LabelEncoder()\n",
        "data['region']= label_encoder.fit_transform(data['region'])"
      ],
      "metadata": {
        "id": "uZyrBQDIWKSV"
      },
      "execution_count": 8,
      "outputs": []
    },
    {
      "cell_type": "code",
      "source": [
        "print(data.head())"
      ],
      "metadata": {
        "colab": {
          "base_uri": "https://localhost:8080/"
        },
        "id": "PM4uKrpIWagc",
        "outputId": "3c8b46c6-a3a2-406b-fcc3-bf9b5f00c5bf"
      },
      "execution_count": 9,
      "outputs": [
        {
          "output_type": "stream",
          "name": "stdout",
          "text": [
            "   age  sex     bmi  children  smoker  region      charges\n",
            "0   19    1  27.900         0       1       3  16884.92400\n",
            "1   18    0  33.770         1       0       2   1725.55230\n",
            "2   28    0  33.000         3       0       2   4449.46200\n",
            "3   33    0  22.705         0       0       1  21984.47061\n",
            "4   32    0  28.880         0       0       1   3866.85520\n"
          ]
        }
      ]
    },
    {
      "cell_type": "code",
      "source": [
        "correlation_matrix = data.corr()\n",
        "\n",
        "plt.figure(figsize=(8, 6))\n",
        "sns.heatmap(correlation_matrix, annot=True, cmap='coolwarm', fmt=\".2f\", linewidths=0.5)\n",
        "\n",
        "plt.title('Correlation Matrix Heatmap')\n",
        "\n",
        "plt.show()"
      ],
      "metadata": {
        "colab": {
          "base_uri": "https://localhost:8080/",
          "height": 545
        },
        "id": "aNPKUt6UOTo-",
        "outputId": "52d4e8dd-0878-465a-8907-2812edb7d492"
      },
      "execution_count": 10,
      "outputs": [
        {
          "output_type": "display_data",
          "data": {
            "text/plain": [
              "<Figure size 800x600 with 2 Axes>"
            ],
            "image/png": "[encoded data removed]"
          },
          "metadata": {}
        }
      ]
    },
    {
      "cell_type": "markdown",
      "source": [
        "Following a correlation study to understand which columns affect each other, the most significant relationship is between smoker and charges. It is translated as a strong positive relationship. To sum up, if a person is a smoker then it is more likely for that person to have higher charges."
      ],
      "metadata": {
        "id": "_5vj7pzjannG"
      }
    },
    {
      "cell_type": "code",
      "source": [
        "y = data['charges']\n",
        "X = data.loc[:, data.columns != 'charges']"
      ],
      "metadata": {
        "id": "ci4IcJz_OTrg"
      },
      "execution_count": 11,
      "outputs": []
    },
    {
      "cell_type": "code",
      "source": [
        "X_train, X_test, y_train, y_test = train_test_split(X, y, test_size=0.2, random_state=42)"
      ],
      "metadata": {
        "id": "M3AAVDXobNqk"
      },
      "execution_count": 12,
      "outputs": []
    },
    {
      "cell_type": "code",
      "source": [
        "model = LinearRegression()"
      ],
      "metadata": {
        "id": "Cp76g93-joZ1"
      },
      "execution_count": 13,
      "outputs": []
    },
    {
      "cell_type": "code",
      "source": [
        "model.fit(X_train, y_train)\n",
        "y_pred = model.predict(X_test)"
      ],
      "metadata": {
        "id": "XnRyyVLMjocN"
      },
      "execution_count": 14,
      "outputs": []
    },
    {
      "cell_type": "code",
      "source": [
        "print(\"Coefficients:\", model.coef_)\n",
        "print(\"Intercept:\", model.intercept_)"
      ],
      "metadata": {
        "colab": {
          "base_uri": "https://localhost:8080/"
        },
        "id": "yW1tS6XQjofo",
        "outputId": "aa51f054-d7d2-465f-ecff-da89bbabe0e7"
      },
      "execution_count": 15,
      "outputs": [
        {
          "output_type": "stream",
          "name": "stdout",
          "text": [
            "Coefficients: [ 2.57056264e+02  1.87914567e+01  3.35781491e+02  4.25091456e+02\n",
            "  2.36478181e+04 -2.71284266e+02]\n",
            "Intercept: -11965.398023961936\n"
          ]
        }
      ]
    },
    {
      "cell_type": "code",
      "source": [
        "coefficients = model.coef_\n",
        "columns = X_train.columns\n",
        "\n",
        "for col, coef in zip(columns, coefficients):\n",
        "    print(f\"{col}: {coef}\")"
      ],
      "metadata": {
        "colab": {
          "base_uri": "https://localhost:8080/"
        },
        "id": "fIySGPMmizqw",
        "outputId": "fffad538-8fd8-4937-c71f-f6f38a116f60"
      },
      "execution_count": 19,
      "outputs": [
        {
          "output_type": "stream",
          "name": "stdout",
          "text": [
            "age: 257.0562636444156\n",
            "sex: 18.791456698899935\n",
            "bmi: 335.7814909943569\n",
            "children: 425.0914559529466\n",
            "smoker: 23647.818096084575\n",
            "region: -271.28426601014854\n"
          ]
        }
      ]
    },
    {
      "cell_type": "markdown",
      "source": [
        "The formula to predict medical costs is through this formula:\n",
        "Medical charges= 257.06*age + 18.79*sex + 335.78*bmi + 425.09*children + 23647.81*smoker- 271.28*region - 11965.4"
      ],
      "metadata": {
        "id": "oAsxwJHEiMaK"
      }
    },
    {
      "cell_type": "code",
      "source": [
        "mse = mean_squared_error(y_test, y_pred)\n",
        "r2 = r2_score(y_test, y_pred)"
      ],
      "metadata": {
        "id": "VNJ-kqQ7ln5j"
      },
      "execution_count": 16,
      "outputs": []
    },
    {
      "cell_type": "code",
      "source": [
        "print(\"The mean squared error is \", mse, \" and the R-Squared is \", r2)"
      ],
      "metadata": {
        "colab": {
          "base_uri": "https://localhost:8080/"
        },
        "id": "0VgrHYSmln8L",
        "outputId": "f90f9cc0-61c9-4ced-e464-5c41c6592c7a"
      },
      "execution_count": 17,
      "outputs": [
        {
          "output_type": "stream",
          "name": "stdout",
          "text": [
            "The mean squared error is  33635210.431178406  and the R-Squared is  0.7833463107364539\n"
          ]
        }
      ]
    },
    {
      "cell_type": "markdown",
      "source": [
        "The R² of 0.783 indicates that the model explains 78.3% of the variance, which suggests that it performs reasonably well, though there's room for improvement (21.7% of the variance is still unexplained)."
      ],
      "metadata": {
        "id": "Z57QjuzVihht"
      }
    },
    {
      "cell_type": "code",
      "source": [],
      "metadata": {
        "id": "uElAaiXWln_k"
      },
      "execution_count": 17,
      "outputs": []
    },
    {
      "cell_type": "code",
      "source": [],
      "metadata": {
        "id": "GL4kRR8QOTu3"
      },
      "execution_count": 17,
      "outputs": []
    }
  ]
}